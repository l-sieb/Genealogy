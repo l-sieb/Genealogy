{
 "cells": [
  {
   "cell_type": "code",
   "execution_count": 2,
   "metadata": {},
   "outputs": [],
   "source": [
    "import pandas as pd \n"
   ]
  },
  {
   "cell_type": "code",
   "execution_count": 113,
   "metadata": {},
   "outputs": [
    {
     "name": "stdout",
     "output_type": "stream",
     "text": [
      "  N° Sosa/réf.  Génération                             Nom  Naissance  \\\n",
      "0          NaN           1   Pascale Valérie Sophie GIRARD   4.4.1971   \n",
      "1            1           2              Jean-Claude GIRARD  15.6.1946   \n",
      "2          NaN           2    Claudette Françoise GROLLEAU   1.6.1946   \n",
      "3            2           3           Maurice Clovis GIRARD  17.4.1909   \n",
      "4            3           3  Gisèle Audrée Severine RAYNEAU  25.1.1917   \n",
      "\n",
      "        Lieu naissance                        Conjoint Date d'union  \\\n",
      "0               Cognac                  Ralf SIEBRECHT          NaN   \n",
      "1        Cherbonnières    Claudette Françoise GROLLEAU   14.10.1967   \n",
      "2        Cherbonnières              Jean-Claude GIRARD   14.10.1967   \n",
      "3  Saint-Jean-d'Angély  Gisèle Audrée Severine RAYNEAU          NaN   \n",
      "4                 Néré           Maurice Clovis GIRARD          NaN   \n",
      "\n",
      "    Lieu d'union       Décès         Lieu décès  Age  \n",
      "0            NaN         NaN                NaN  NaN  \n",
      "1  Cherbonnières         NaN                NaN  NaN  \n",
      "2  Cherbonnières   24.2.2016  Cherves-Richemont   69  \n",
      "3            NaN   5.10.1980             Paillé   71  \n",
      "4            NaN  20.12.1993             Paillé   76  \n"
     ]
    }
   ],
   "source": [
    "df = pd.read_csv(r'C:\\Users\\leasi\\Documents\\projet_portfolio\\P2_Genealogy\\ascendance_PG.csv', encoding='iso-8859-1', delimiter=';')\n",
    "print(df.head())"
   ]
  },
  {
   "cell_type": "code",
   "execution_count": 114,
   "metadata": {},
   "outputs": [
    {
     "data": {
      "text/plain": [
       "Index(['N° Sosa/réf.', 'Génération', 'Nom', 'Naissance', 'Lieu naissance',\n",
       "       'Conjoint', 'Date d'union', 'Lieu d'union', 'Décès', 'Lieu décès',\n",
       "       'Age'],\n",
       "      dtype='object')"
      ]
     },
     "execution_count": 114,
     "metadata": {},
     "output_type": "execute_result"
    }
   ],
   "source": [
    "df.columns"
   ]
  },
  {
   "cell_type": "code",
   "execution_count": 115,
   "metadata": {},
   "outputs": [
    {
     "data": {
      "text/plain": [
       "N° Sosa/réf.      206\n",
       "Génération          0\n",
       "Nom                 0\n",
       "Naissance         236\n",
       "Lieu naissance    405\n",
       "Conjoint            9\n",
       "Date d'union      330\n",
       "Lieu d'union      352\n",
       "Décès             320\n",
       "Lieu décès        372\n",
       "Age               354\n",
       "dtype: int64"
      ]
     },
     "execution_count": 115,
     "metadata": {},
     "output_type": "execute_result"
    }
   ],
   "source": [
    "# the missing values\n",
    "df.isna().sum()"
   ]
  },
  {
   "attachments": {},
   "cell_type": "markdown",
   "metadata": {},
   "source": [
    "Separation of the column 'Nom' in 2 to get one with the first name and anoter with the last name"
   ]
  },
  {
   "cell_type": "code",
   "execution_count": 116,
   "metadata": {},
   "outputs": [
    {
     "name": "stdout",
     "output_type": "stream",
     "text": [
      "        N° Sosa/réf.  Génération                      Nom  Naissance  \\\n",
      "0                NaN           1  Pascale Valérie Sophie    4.4.1971   \n",
      "1                  1           2             Jean-Claude   15.6.1946   \n",
      "2                NaN           2     Claudette Françoise    1.6.1946   \n",
      "3                  2           3          Maurice Clovis   17.4.1909   \n",
      "4                  3           3  Gisèle Audrée Severine   25.1.1917   \n",
      "..               ...         ...                      ...        ...   \n",
      "653   15 677 (7 613)          15                Julienne        1585   \n",
      "654   15 678 (7 614)          15                  Pierre         NaN   \n",
      "655   15 679 (7 615)          15                   Marie         NaN   \n",
      "656  16 226 (14 562)          15                  Thomas      ~ 1590   \n",
      "657  16 227 (14 563)          15                   Renée      ~ 1590   \n",
      "\n",
      "          Lieu naissance                        Conjoint Date d'union  \\\n",
      "0                 Cognac                  Ralf SIEBRECHT          NaN   \n",
      "1          Cherbonnières    Claudette Françoise GROLLEAU   14.10.1967   \n",
      "2          Cherbonnières              Jean-Claude GIRARD   14.10.1967   \n",
      "3    Saint-Jean-d'Angély  Gisèle Audrée Severine RAYNEAU          NaN   \n",
      "4                   Néré           Maurice Clovis GIRARD          NaN   \n",
      "..                   ...                             ...          ...   \n",
      "653                  NaN                   Laurent SORIN         1608   \n",
      "654                  NaN                    Marie ROBLIN          NaN   \n",
      "655                  NaN                   Pierre DURAND          NaN   \n",
      "656                  NaN                   Renée SALIGNE         1616   \n",
      "657                  NaN                Thomas VILLENEAU         1616   \n",
      "\n",
      "      Lieu d'union       Décès         Lieu décès  Age Nom de famille  \n",
      "0              NaN         NaN                NaN  NaN         GIRARD  \n",
      "1    Cherbonnières         NaN                NaN  NaN         GIRARD  \n",
      "2    Cherbonnières   24.2.2016  Cherves-Richemont   69       GROLLEAU  \n",
      "3              NaN   5.10.1980             Paillé   71         GIRARD  \n",
      "4              NaN  20.12.1993             Paillé   76        RAYNEAU  \n",
      "..             ...         ...                ...  ...            ...  \n",
      "653            NaN    9.3.1628    La Limouzinière   43         ARNAUD  \n",
      "654            NaN         NaN                NaN  NaN         DURAND  \n",
      "655            NaN         NaN                NaN  NaN         ROBLIN  \n",
      "656            NaN         NaN                NaN  NaN      VILLENEAU  \n",
      "657            NaN         NaN                NaN  NaN        SALIGNE  \n",
      "\n",
      "[658 rows x 12 columns]\n"
     ]
    }
   ],
   "source": [
    "import re\n",
    "\n",
    "# create a regex pattern to match all capital words\n",
    "pattern = r'\\b[A-ZÀ-ÖØ-Ý]+\\b'\n",
    "\n",
    "# create a function to extract the first match from a string\n",
    "def extract_first_match(string):\n",
    "    match = re.search(pattern, string)\n",
    "    return match.group(0) if match else ''\n",
    "\n",
    "# apply the function to the 'Nom' column to extract the first capital word\n",
    "df['Nom de famille'] = df['Nom'].apply(extract_first_match)\n",
    "\n",
    "# remove the capital word from the 'Nom' column using the str.replace() method\n",
    "df['Nom'] = df['Nom'].str.replace(pattern, '', regex=True)\n",
    "\n",
    "# print the result\n",
    "print(df)\n"
   ]
  },
  {
   "cell_type": "code",
   "execution_count": 117,
   "metadata": {},
   "outputs": [
    {
     "name": "stdout",
     "output_type": "stream",
     "text": [
      "        N° Sosa/réf.  Génération                  Prénoms  Naissance  \\\n",
      "0                NaN           1  Pascale Valérie Sophie    4.4.1971   \n",
      "1                  1           2             Jean-Claude   15.6.1946   \n",
      "2                NaN           2     Claudette Françoise    1.6.1946   \n",
      "3                  2           3          Maurice Clovis   17.4.1909   \n",
      "4                  3           3  Gisèle Audrée Severine   25.1.1917   \n",
      "..               ...         ...                      ...        ...   \n",
      "653   15 677 (7 613)          15                Julienne        1585   \n",
      "654   15 678 (7 614)          15                  Pierre         NaN   \n",
      "655   15 679 (7 615)          15                   Marie         NaN   \n",
      "656  16 226 (14 562)          15                  Thomas      ~ 1590   \n",
      "657  16 227 (14 563)          15                   Renée      ~ 1590   \n",
      "\n",
      "          Lieu naissance                        Conjoint Date d'union  \\\n",
      "0                 Cognac                  Ralf SIEBRECHT          NaN   \n",
      "1          Cherbonnières    Claudette Françoise GROLLEAU   14.10.1967   \n",
      "2          Cherbonnières              Jean-Claude GIRARD   14.10.1967   \n",
      "3    Saint-Jean-d'Angély  Gisèle Audrée Severine RAYNEAU          NaN   \n",
      "4                   Néré           Maurice Clovis GIRARD          NaN   \n",
      "..                   ...                             ...          ...   \n",
      "653                  NaN                   Laurent SORIN         1608   \n",
      "654                  NaN                    Marie ROBLIN          NaN   \n",
      "655                  NaN                   Pierre DURAND          NaN   \n",
      "656                  NaN                   Renée SALIGNE         1616   \n",
      "657                  NaN                Thomas VILLENEAU         1616   \n",
      "\n",
      "      Lieu d'union       Décès         Lieu décès  Age Nom de famille  \n",
      "0              NaN         NaN                NaN  NaN         GIRARD  \n",
      "1    Cherbonnières         NaN                NaN  NaN         GIRARD  \n",
      "2    Cherbonnières   24.2.2016  Cherves-Richemont   69       GROLLEAU  \n",
      "3              NaN   5.10.1980             Paillé   71         GIRARD  \n",
      "4              NaN  20.12.1993             Paillé   76        RAYNEAU  \n",
      "..             ...         ...                ...  ...            ...  \n",
      "653            NaN    9.3.1628    La Limouzinière   43         ARNAUD  \n",
      "654            NaN         NaN                NaN  NaN         DURAND  \n",
      "655            NaN         NaN                NaN  NaN         ROBLIN  \n",
      "656            NaN         NaN                NaN  NaN      VILLENEAU  \n",
      "657            NaN         NaN                NaN  NaN        SALIGNE  \n",
      "\n",
      "[658 rows x 12 columns]\n"
     ]
    }
   ],
   "source": [
    "# Rename the column for the first name\n",
    "df = df.rename(columns={'Nom': 'Prénoms'})\n",
    "print(df)"
   ]
  },
  {
   "cell_type": "code",
   "execution_count": 118,
   "metadata": {},
   "outputs": [
    {
     "name": "stdout",
     "output_type": "stream",
     "text": [
      "Index(['N° Sosa/réf.', 'Génération', 'Nom de famille', 'Prénoms', 'Naissance',\n",
      "       'Lieu naissance', 'Conjoint', 'Date d'union', 'Lieu d'union', 'Décès',\n",
      "       'Lieu décès', 'Age'],\n",
      "      dtype='object')\n"
     ]
    }
   ],
   "source": [
    "# Change the position of the column 'Nom de famille'\n",
    "# remove the 'Nom de famille' column and save it as a Series\n",
    "col_C = df.pop('Nom de famille')\n",
    "\n",
    "# insert the 'C' column at the corect position\n",
    "df.insert(2, 'Nom de famille', col_C)\n",
    "\n",
    "# print the updated column order\n",
    "print(df.columns)"
   ]
  },
  {
   "attachments": {},
   "cell_type": "markdown",
   "metadata": {},
   "source": [
    "Separation of the column 'conjoint' to get 2 column with the first and last name"
   ]
  },
  {
   "cell_type": "code",
   "execution_count": 119,
   "metadata": {},
   "outputs": [
    {
     "name": "stdout",
     "output_type": "stream",
     "text": [
      "        N° Sosa/réf.  Génération Nom de famille                  Prénoms  \\\n",
      "0                NaN           1         GIRARD  Pascale Valérie Sophie    \n",
      "1                  1           2         GIRARD             Jean-Claude    \n",
      "2                NaN           2       GROLLEAU     Claudette Françoise    \n",
      "3                  2           3         GIRARD          Maurice Clovis    \n",
      "4                  3           3        RAYNEAU  Gisèle Audrée Severine    \n",
      "..               ...         ...            ...                      ...   \n",
      "653   15 677 (7 613)          15         ARNAUD                Julienne    \n",
      "654   15 678 (7 614)          15         DURAND                  Pierre    \n",
      "655   15 679 (7 615)          15         ROBLIN                   Marie    \n",
      "656  16 226 (14 562)          15      VILLENEAU                  Thomas    \n",
      "657  16 227 (14 563)          15        SALIGNE                   Renée    \n",
      "\n",
      "     Naissance       Lieu naissance      Prénoms du conjoint Date d'union  \\\n",
      "0     4.4.1971               Cognac                    Ralf           NaN   \n",
      "1    15.6.1946        Cherbonnières     Claudette Françoise    14.10.1967   \n",
      "2     1.6.1946        Cherbonnières             Jean-Claude    14.10.1967   \n",
      "3    17.4.1909  Saint-Jean-d'Angély  Gisèle Audrée Severine           NaN   \n",
      "4    25.1.1917                 Néré          Maurice Clovis           NaN   \n",
      "..         ...                  ...                      ...          ...   \n",
      "653       1585                  NaN                 Laurent          1608   \n",
      "654        NaN                  NaN                   Marie           NaN   \n",
      "655        NaN                  NaN                  Pierre           NaN   \n",
      "656     ~ 1590                  NaN                   Renée          1616   \n",
      "657     ~ 1590                  NaN                  Thomas          1616   \n",
      "\n",
      "      Lieu d'union       Décès         Lieu décès  Age  \\\n",
      "0              NaN         NaN                NaN  NaN   \n",
      "1    Cherbonnières         NaN                NaN  NaN   \n",
      "2    Cherbonnières   24.2.2016  Cherves-Richemont   69   \n",
      "3              NaN   5.10.1980             Paillé   71   \n",
      "4              NaN  20.12.1993             Paillé   76   \n",
      "..             ...         ...                ...  ...   \n",
      "653            NaN    9.3.1628    La Limouzinière   43   \n",
      "654            NaN         NaN                NaN  NaN   \n",
      "655            NaN         NaN                NaN  NaN   \n",
      "656            NaN         NaN                NaN  NaN   \n",
      "657            NaN         NaN                NaN  NaN   \n",
      "\n",
      "    Nom de famille du conjoint  \n",
      "0                    SIEBRECHT  \n",
      "1                     GROLLEAU  \n",
      "2                       GIRARD  \n",
      "3                      RAYNEAU  \n",
      "4                       GIRARD  \n",
      "..                         ...  \n",
      "653                      SORIN  \n",
      "654                     ROBLIN  \n",
      "655                     DURAND  \n",
      "656                    SALIGNE  \n",
      "657                  VILLENEAU  \n",
      "\n",
      "[658 rows x 13 columns]\n"
     ]
    }
   ],
   "source": [
    "# I can use the same pattern/function created before\n",
    "\n",
    "# Replace the NaN values by nothing to avoid non-string values\n",
    "df['Conjoint'] = df['Conjoint'].fillna('')\n",
    "\n",
    "# apply the function to the 'Text' column using the apply() method\n",
    "df['Nom de famille du conjoint'] = df['Conjoint'].apply(extract_first_match)\n",
    "\n",
    "# remove the capital word from the 'Nom' column using the str.replace() method\n",
    "df['Conjoint'] = df['Conjoint'].str.replace(pattern, '', regex=True)\n",
    "\n",
    "df = df.rename(columns={'Conjoint': 'Prénoms du conjoint'})\n",
    "\n",
    "# print the result\n",
    "print(df)"
   ]
  },
  {
   "cell_type": "code",
   "execution_count": 120,
   "metadata": {},
   "outputs": [
    {
     "name": "stdout",
     "output_type": "stream",
     "text": [
      "Index(['N° Sosa/réf.', 'Génération', 'Nom de famille', 'Prénoms', 'Naissance',\n",
      "       'Lieu naissance', 'Nom de famille du conjoint', 'Prénoms du conjoint',\n",
      "       'Date d'union', 'Lieu d'union', 'Décès', 'Lieu décès', 'Age'],\n",
      "      dtype='object')\n"
     ]
    }
   ],
   "source": [
    "# Change the position of the column 'Nom de famille du conjoint'\n",
    "# remove the 'Nom de famille' column and save it as a Series\n",
    "col_D = df.pop('Nom de famille du conjoint')\n",
    "\n",
    "# insert the 'D' column at the corect position\n",
    "df.insert(6, 'Nom de famille du conjoint', col_D)\n",
    "\n",
    "# print the updated column order\n",
    "print(df.columns)"
   ]
  },
  {
   "attachments": {},
   "cell_type": "markdown",
   "metadata": {},
   "source": [
    "Add an ID column"
   ]
  },
  {
   "cell_type": "code",
   "execution_count": 121,
   "metadata": {},
   "outputs": [
    {
     "name": "stdout",
     "output_type": "stream",
     "text": [
      "      ID     N° Sosa/réf.  Génération Nom de famille                  Prénoms  \\\n",
      "0      0              NaN           1         GIRARD  Pascale Valérie Sophie    \n",
      "1      1                1           2         GIRARD             Jean-Claude    \n",
      "2      2              NaN           2       GROLLEAU     Claudette Françoise    \n",
      "3      3                2           3         GIRARD          Maurice Clovis    \n",
      "4      4                3           3        RAYNEAU  Gisèle Audrée Severine    \n",
      "..   ...              ...         ...            ...                      ...   \n",
      "653  653   15 677 (7 613)          15         ARNAUD                Julienne    \n",
      "654  654   15 678 (7 614)          15         DURAND                  Pierre    \n",
      "655  655   15 679 (7 615)          15         ROBLIN                   Marie    \n",
      "656  656  16 226 (14 562)          15      VILLENEAU                  Thomas    \n",
      "657  657  16 227 (14 563)          15        SALIGNE                   Renée    \n",
      "\n",
      "     Naissance       Lieu naissance Nom de famille du conjoint  \\\n",
      "0     4.4.1971               Cognac                  SIEBRECHT   \n",
      "1    15.6.1946        Cherbonnières                   GROLLEAU   \n",
      "2     1.6.1946        Cherbonnières                     GIRARD   \n",
      "3    17.4.1909  Saint-Jean-d'Angély                    RAYNEAU   \n",
      "4    25.1.1917                 Néré                     GIRARD   \n",
      "..         ...                  ...                        ...   \n",
      "653       1585                  NaN                      SORIN   \n",
      "654        NaN                  NaN                     ROBLIN   \n",
      "655        NaN                  NaN                     DURAND   \n",
      "656     ~ 1590                  NaN                    SALIGNE   \n",
      "657     ~ 1590                  NaN                  VILLENEAU   \n",
      "\n",
      "         Prénoms du conjoint Date d'union   Lieu d'union       Décès  \\\n",
      "0                      Ralf           NaN            NaN         NaN   \n",
      "1       Claudette Françoise    14.10.1967  Cherbonnières         NaN   \n",
      "2               Jean-Claude    14.10.1967  Cherbonnières   24.2.2016   \n",
      "3    Gisèle Audrée Severine           NaN            NaN   5.10.1980   \n",
      "4            Maurice Clovis           NaN            NaN  20.12.1993   \n",
      "..                       ...          ...            ...         ...   \n",
      "653                 Laurent          1608            NaN    9.3.1628   \n",
      "654                   Marie           NaN            NaN         NaN   \n",
      "655                  Pierre           NaN            NaN         NaN   \n",
      "656                   Renée          1616            NaN         NaN   \n",
      "657                  Thomas          1616            NaN         NaN   \n",
      "\n",
      "            Lieu décès  Age  \n",
      "0                  NaN  NaN  \n",
      "1                  NaN  NaN  \n",
      "2    Cherves-Richemont   69  \n",
      "3               Paillé   71  \n",
      "4               Paillé   76  \n",
      "..                 ...  ...  \n",
      "653    La Limouzinière   43  \n",
      "654                NaN  NaN  \n",
      "655                NaN  NaN  \n",
      "656                NaN  NaN  \n",
      "657                NaN  NaN  \n",
      "\n",
      "[658 rows x 14 columns]\n"
     ]
    }
   ],
   "source": [
    "# Add an ID column\n",
    "df.reset_index(inplace=True)\n",
    "df.rename(columns={'index': 'ID'}, inplace=True)\n",
    "\n",
    "print(df)\n"
   ]
  },
  {
   "attachments": {},
   "cell_type": "markdown",
   "metadata": {},
   "source": [
    "The columns with a date are not clean\n",
    "Theres valeus wer it only the year with a ~ to say 'environ'"
   ]
  },
  {
   "cell_type": "code",
   "execution_count": 122,
   "metadata": {},
   "outputs": [
    {
     "name": "stdout",
     "output_type": "stream",
     "text": [
      "ID                             int64\n",
      "N° Sosa/réf.                  object\n",
      "Génération                     int64\n",
      "Nom de famille                object\n",
      "Prénoms                       object\n",
      "Naissance                     object\n",
      "Lieu naissance                object\n",
      "Nom de famille du conjoint    object\n",
      "Prénoms du conjoint           object\n",
      "Date d'union                  object\n",
      "Lieu d'union                  object\n",
      "Décès                         object\n",
      "Lieu décès                    object\n",
      "Age                           object\n",
      "dtype: object\n"
     ]
    }
   ],
   "source": [
    "print(df.dtypes)"
   ]
  },
  {
   "cell_type": "code",
   "execution_count": 123,
   "metadata": {},
   "outputs": [],
   "source": [
    "# Delete the ~ from the columns\n",
    "df['Naissance'] = df['Naissance'].str.replace('~', '')\n",
    "df[\"Date d'union\"] = df[\"Date d'union\"].str.replace('~', '')\n",
    "df['Décès'] = df['Décès'].str.replace('~', '')\n",
    "\n",
    "df['Age'] = df['Age'].str.replace('~', '')\n",
    "df['Age'] = df['Age'].str.replace('<', '')\n",
    "df['Age'] = df['Age'].str.replace('>', '')"
   ]
  },
  {
   "cell_type": "code",
   "execution_count": 124,
   "metadata": {},
   "outputs": [
    {
     "name": "stdout",
     "output_type": "stream",
     "text": [
      "      ID     N° Sosa/réf.  Génération Nom de famille                  Prénoms  \\\n",
      "0      0              NaN           1         GIRARD  Pascale Valérie Sophie    \n",
      "1      1                1           2         GIRARD             Jean-Claude    \n",
      "2      2              NaN           2       GROLLEAU     Claudette Françoise    \n",
      "3      3                2           3         GIRARD          Maurice Clovis    \n",
      "4      4                3           3        RAYNEAU  Gisèle Audrée Severine    \n",
      "..   ...              ...         ...            ...                      ...   \n",
      "653  653   15 677 (7 613)          15         ARNAUD                Julienne    \n",
      "654  654   15 678 (7 614)          15         DURAND                  Pierre    \n",
      "655  655   15 679 (7 615)          15         ROBLIN                   Marie    \n",
      "656  656  16 226 (14 562)          15      VILLENEAU                  Thomas    \n",
      "657  657  16 227 (14 563)          15        SALIGNE                   Renée    \n",
      "\n",
      "     Naissance       Lieu naissance Nom de famille du conjoint  \\\n",
      "0     4.4.1971               Cognac                  SIEBRECHT   \n",
      "1    15.6.1946        Cherbonnières                   GROLLEAU   \n",
      "2     1.6.1946        Cherbonnières                     GIRARD   \n",
      "3    17.4.1909  Saint-Jean-d'Angély                    RAYNEAU   \n",
      "4    25.1.1917                 Néré                     GIRARD   \n",
      "..         ...                  ...                        ...   \n",
      "653       1585                  NaN                      SORIN   \n",
      "654        NaN                  NaN                     ROBLIN   \n",
      "655        NaN                  NaN                     DURAND   \n",
      "656       1590                  NaN                    SALIGNE   \n",
      "657       1590                  NaN                  VILLENEAU   \n",
      "\n",
      "         Prénoms du conjoint Date d'union   Lieu d'union       Décès  \\\n",
      "0                      Ralf           NaN            NaN         NaN   \n",
      "1       Claudette Françoise    14.10.1967  Cherbonnières         NaN   \n",
      "2               Jean-Claude    14.10.1967  Cherbonnières   24.2.2016   \n",
      "3    Gisèle Audrée Severine           NaN            NaN   5.10.1980   \n",
      "4            Maurice Clovis           NaN            NaN  20.12.1993   \n",
      "..                       ...          ...            ...         ...   \n",
      "653                 Laurent          1608            NaN    9.3.1628   \n",
      "654                   Marie           NaN            NaN         NaN   \n",
      "655                  Pierre           NaN            NaN         NaN   \n",
      "656                   Renée          1616            NaN         NaN   \n",
      "657                  Thomas          1616            NaN         NaN   \n",
      "\n",
      "            Lieu décès  Age  \n",
      "0                  NaN  NaN  \n",
      "1                  NaN  NaN  \n",
      "2    Cherves-Richemont   69  \n",
      "3               Paillé   71  \n",
      "4               Paillé   76  \n",
      "..                 ...  ...  \n",
      "653    La Limouzinière   43  \n",
      "654                NaN  NaN  \n",
      "655                NaN  NaN  \n",
      "656                NaN  NaN  \n",
      "657                NaN  NaN  \n",
      "\n",
      "[658 rows x 14 columns]\n"
     ]
    }
   ],
   "source": [
    "print(df)"
   ]
  },
  {
   "cell_type": "code",
   "execution_count": 125,
   "metadata": {},
   "outputs": [],
   "source": [
    "# Extraction of the data set to a csv file\n",
    "df.to_csv('ascendance_PG_mod.csv', index=False)"
   ]
  },
  {
   "cell_type": "code",
   "execution_count": null,
   "metadata": {},
   "outputs": [],
   "source": []
  }
 ],
 "metadata": {
  "kernelspec": {
   "display_name": "base",
   "language": "python",
   "name": "python3"
  },
  "language_info": {
   "codemirror_mode": {
    "name": "ipython",
    "version": 3
   },
   "file_extension": ".py",
   "mimetype": "text/x-python",
   "name": "python",
   "nbconvert_exporter": "python",
   "pygments_lexer": "ipython3",
   "version": "3.9.13"
  },
  "orig_nbformat": 4,
  "vscode": {
   "interpreter": {
    "hash": "b8c1bdfaf69cad1d487d976949598bec746b7636b87691d3cbccf41aabeed8f7"
   }
  }
 },
 "nbformat": 4,
 "nbformat_minor": 2
}
